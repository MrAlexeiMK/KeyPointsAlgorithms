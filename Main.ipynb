{
 "cells": [
  {
   "cell_type": "markdown",
   "metadata": {},
   "source": [
    "# Image Transformation Hints\n",
    "Image processing:\n",
    "```\n",
    "gray = cv2.cvtColor(frame, cv2.COLOR_BGR2GRAY) - Gray Image\n",
    "frame = cv2.GaussianBlur(frame, (3, 3), cv2.BORDER_DEFAULT) - Gaussian Blur\n",
    "frame = cv2.medianBlur(frame, 5) - Median Blur\n",
    "frame = cv2.blur(frame, (5, 5)) - Box Blur\n",
    "frame = cv2.filter2D(src=frame, ddepth=-1, kernel=kernel) - Convert By Convolutional\n",
    "```"
   ]
  },
  {
   "cell_type": "code",
   "execution_count": 40,
   "metadata": {},
   "outputs": [],
   "source": [
    "import cv2\n",
    "import numpy as np\n",
    "from matplotlib import pyplot as plt\n",
    "from sklearn.preprocessing import normalize\n",
    "import matplotlib.pyplot as plt\n",
    "import math\n",
    "import mpl_toolkits.mplot3d.axes3d as p3\n",
    "import plotly.graph_objects as go\n",
    "\n",
    "%matplotlib inline"
   ]
  },
  {
   "cell_type": "code",
   "execution_count": 48,
   "metadata": {},
   "outputs": [],
   "source": [
    "videoFile = \"videos/mouse_short.mp4\"\n",
    "NEXT_FRAMES_COUNT = 0\n",
    "FRAMES_STEP = 30\n",
    "K = np.array([[1006.34, 0., 0.],\n",
    "                 [0., 1006.34, 0.],\n",
    "                 [0., 0., 1.]])\n",
    "CENTER = np.array([[1., 1., 1.]]).T"
   ]
  },
  {
   "cell_type": "code",
   "execution_count": 28,
   "metadata": {},
   "outputs": [],
   "source": [
    "#Display video\n",
    "\n",
    "cam = cv2.VideoCapture(videoFile)\n",
    "\n",
    "while(cam.isOpened()):\n",
    "    ret, frame = cam.read()\n",
    "    if ret:\n",
    "        cv2.imshow(\"frame\", frame)\n",
    "    else:\n",
    "        cam = cv2.VideoCapture(videoFile)\n",
    "    if cv2.waitKey(1) & 0xFF == ord('q') or cv2.waitKey(1) & 0xFF == 27:\n",
    "        break\n",
    "\n",
    "cam.release()\n",
    "cv2.destroyAllWindows()"
   ]
  },
  {
   "cell_type": "code",
   "execution_count": 13,
   "metadata": {},
   "outputs": [],
   "source": [
    "#Detect matches with ORB\n",
    "\n",
    "cam = cv2.VideoCapture(videoFile)\n",
    "frames = []\n",
    "\n",
    "LS = []\n",
    "RS = []\n",
    "\n",
    "while(cam.isOpened()):\n",
    "    ret, frame = cam.read()\n",
    "    if ret:\n",
    "        frames.append(frame)\n",
    "    else:\n",
    "        break\n",
    "\n",
    "cam.release()\n",
    "\n",
    "orb = cv2.ORB_create()\n",
    "done = False\n",
    "\n",
    "for i in range(0, len(frames) - FRAMES_STEP, FRAMES_STEP):\n",
    "    if done:\n",
    "        break\n",
    "    for j in range(i + FRAMES_STEP, \n",
    "                   min(i + FRAMES_STEP + NEXT_FRAMES_COUNT + 1, len(frames))):\n",
    "        gray = cv2.cvtColor(frames[i], cv2.COLOR_BGR2GRAY)\n",
    "        grayPrev = cv2.cvtColor(frames[j], cv2.COLOR_BGR2GRAY)\n",
    "\n",
    "        kp1, des1 = orb.detectAndCompute(gray, None)\n",
    "        kp2, des2 = orb.detectAndCompute(grayPrev, None)\n",
    "        \n",
    "        bf = cv2.BFMatcher(cv2.NORM_HAMMING, crossCheck=True)\n",
    "        matches = bf.match(des1, des2)\n",
    "        matches = sorted(matches, key = lambda x:x.distance)\n",
    "        \n",
    "        L = []\n",
    "        R = []\n",
    "        good = []\n",
    "        for k in range(0, 20):\n",
    "            match = matches[k]\n",
    "            p1 = kp1[match.queryIdx].pt\n",
    "            p2 = kp2[match.trainIdx].pt\n",
    "            L.append(p1)\n",
    "            R.append(p2)\n",
    "            good.append(match)\n",
    "        \n",
    "        LS.append(L)\n",
    "        RS.append(R)\n",
    "        \n",
    "        res = cv2.drawMatches(frames[i], kp1, frames[j], kp2, good, None, flags=0)\n",
    "        \n",
    "        cv2.putText(res, \"Frame #\" + str(i+1) + \" -> Frame #\" + str(j+1) , (10, 30), cv2.FONT_HERSHEY_SIMPLEX, 1, 100)\n",
    "        \n",
    "        cv2.imshow('frame', res)\n",
    "        \n",
    "        if cv2.waitKey(1) & 0xFF == ord('q') or cv2.waitKey(1) & 0xFF == 27:\n",
    "            done = True\n",
    "            break\n",
    "            \n",
    "cv2.waitKey(3000)\n",
    "cv2.destroyAllWindows()"
   ]
  },
  {
   "cell_type": "code",
   "execution_count": 14,
   "metadata": {},
   "outputs": [],
   "source": [
    "#Detect matches with SIFT\n",
    "\n",
    "cam = cv2.VideoCapture(videoFile)\n",
    "frames = []\n",
    "\n",
    "LS = []\n",
    "RS = []\n",
    "\n",
    "while(cam.isOpened()):\n",
    "    ret, frame = cam.read()\n",
    "    if ret:\n",
    "        frames.append(frame)\n",
    "    else:\n",
    "        break\n",
    "\n",
    "cam.release()\n",
    "\n",
    "sift = cv2.SIFT_create()\n",
    "bf = cv2.BFMatcher()\n",
    "done = False\n",
    "\n",
    "for i in range(0, len(frames) - FRAMES_STEP, FRAMES_STEP):\n",
    "    if done:\n",
    "        break\n",
    "    for j in range(i + FRAMES_STEP, \n",
    "                   min(i + FRAMES_STEP + NEXT_FRAMES_COUNT + 1, len(frames))):\n",
    "        gray = cv2.cvtColor(frames[i], cv2.COLOR_BGR2GRAY)\n",
    "        grayPrev = cv2.cvtColor(frames[j], cv2.COLOR_BGR2GRAY)\n",
    "        \n",
    "        kp1, des1 = sift.detectAndCompute(gray, None)\n",
    "        kp2, des2 = sift.detectAndCompute(grayPrev, None)\n",
    "        \n",
    "        matches = bf.knnMatch(des1, des2, k=2)\n",
    "        \n",
    "        L = []\n",
    "        R = []\n",
    "        good = []\n",
    "        for m, n in matches:\n",
    "            if m.distance < 0.75*n.distance:\n",
    "                p1 = kp1[m.queryIdx].pt\n",
    "                p2 = kp2[m.trainIdx].pt\n",
    "                L.append(p1)\n",
    "                R.append(p2)\n",
    "                good.append([m])\n",
    "        \n",
    "        LS.append(L)\n",
    "        RS.append(R)\n",
    "        \n",
    "        res = cv2.drawMatchesKnn(frames[i], kp1, frames[j], kp2, \n",
    "                                 good, None, flags=0)\n",
    "        cv2.putText(res, \"Frame #\" + str(i+1) + \" -> Frame #\" + str(j+1) , (10, 30), cv2.FONT_HERSHEY_SIMPLEX, 1, 100)\n",
    "        \n",
    "        cv2.imshow('frame', res)\n",
    "        \n",
    "        if cv2.waitKey(1) & 0xFF == ord('q') or cv2.waitKey(1) & 0xFF == 27:\n",
    "            done = True\n",
    "            break\n",
    "\n",
    "cv2.waitKey(3000)\n",
    "cv2.destroyAllWindows()"
   ]
  },
  {
   "cell_type": "code",
   "execution_count": 89,
   "metadata": {},
   "outputs": [],
   "source": [
    "#Detect matches with SIFT on FLANN\n",
    "\n",
    "cam = cv2.VideoCapture(videoFile)\n",
    "frames = []\n",
    "\n",
    "LS = []\n",
    "RS = []\n",
    "\n",
    "while(cam.isOpened()):\n",
    "    ret, frame = cam.read()\n",
    "    if ret:\n",
    "        frames.append(frame)\n",
    "    else:\n",
    "        break\n",
    "\n",
    "cam.release()\n",
    "\n",
    "sift = cv2.SIFT_create()\n",
    "done = False\n",
    "\n",
    "index_params = dict(algorithm=0, trees=5)\n",
    "search_params = dict(checks=50)\n",
    "flann = cv2.FlannBasedMatcher(index_params, search_params)\n",
    "\n",
    "for i in range(0, len(frames) - FRAMES_STEP, FRAMES_STEP):\n",
    "    if done:\n",
    "        break\n",
    "    for j in range(i + FRAMES_STEP, \n",
    "                   min(i + FRAMES_STEP + NEXT_FRAMES_COUNT + 1, len(frames))):\n",
    "        gray = cv2.cvtColor(frames[i], cv2.COLOR_BGR2GRAY)\n",
    "        grayPrev = cv2.cvtColor(frames[j], cv2.COLOR_BGR2GRAY)\n",
    "        \n",
    "        kp1, des1 = sift.detectAndCompute(gray, None)\n",
    "        kp2, des2 = sift.detectAndCompute(grayPrev, None)\n",
    "        \n",
    "        matches = flann.knnMatch(des1, des2, k=2)\n",
    "        \n",
    "        L = []\n",
    "        R = []\n",
    "        good = []\n",
    "        for m, n in matches:\n",
    "            if m.distance < 0.5*n.distance:\n",
    "                p1 = kp1[m.queryIdx].pt\n",
    "                p2 = kp2[m.trainIdx].pt\n",
    "                L.append(p1)\n",
    "                R.append(p2)\n",
    "                good.append([m])\n",
    "        \n",
    "        LS.append(L)\n",
    "        RS.append(R)\n",
    "        \n",
    "        res = cv2.drawMatchesKnn(frames[i], kp1, frames[j], kp2, \n",
    "                                 good, None, flags=0)\n",
    "        cv2.putText(res, \"Frame #\" + str(i+1) + \" -> Frame #\" + str(j+1) , (10, 30), cv2.FONT_HERSHEY_SIMPLEX, 1, 100)\n",
    "        \n",
    "        cv2.imshow('frame', res)\n",
    "        \n",
    "        if cv2.waitKey(1) & 0xFF == ord('q') or cv2.waitKey(1) & 0xFF == 27:\n",
    "            done = True\n",
    "            break\n",
    "cv2.waitKey(3000)\n",
    "cv2.destroyAllWindows()"
   ]
  },
  {
   "cell_type": "markdown",
   "metadata": {},
   "source": [
    "Let $A$ be the matrix, containing more or equal than $9$ keypoints coordinates between two images\n",
    "\n",
    "Let $f$ be the vector, containing \"Fundamental Matrix\" values to convert any point from the first image to the relevant second\n",
    "\n",
    "Let's minimize the value of $||A f||^2 = (A f)^T (A f) = f^T A^T A f$ with the constraint $f^T f = 1$\n",
    "\n",
    "Define the loss function $L(f, \\lambda) = f^T A^T A f - \\lambda(f^T f - 1)$\n",
    "\n",
    "${dL(f, \\lambda) \\over df} = 2 A^T A f - 2 \\lambda f \\Rightarrow A^T A f = \\lambda f$\n",
    "\n",
    "We must find the minimum eigenvalue $\\lambda$"
   ]
  },
  {
   "cell_type": "code",
   "execution_count": 90,
   "metadata": {},
   "outputs": [
    {
     "name": "stdout",
     "output_type": "stream",
     "text": [
      "(89, 9)\n"
     ]
    }
   ],
   "source": [
    "#Computing 3d coordinates\n",
    "\n",
    "LEFT_CENTER = CENTER\n",
    "\n",
    "X = []\n",
    "ONLY_KEY_POINTS = True\n",
    "\n",
    "for i in range(0, len(LS)):\n",
    "    count_points = len(LS[i])\n",
    "    if count_points >= 9:\n",
    "        A = np.full((count_points, 9), 0)\n",
    "        for j in range(0, count_points):\n",
    "            uL = LS[i][j][0]\n",
    "            vL = LS[i][j][1]\n",
    "            uR = RS[i][j][0]\n",
    "            vR = RS[i][j][1]\n",
    "            A[j] = [uL*uR, uR*vL, uR, uL*vR, vL*vR, vR, uL, vL, 1]\n",
    "        print(A.shape)\n",
    "        \n",
    "        eigenvalues, eigenvectors = np.linalg.eig(np.dot(A.T, A))\n",
    "        index = np.argmin([abs(v) for v in eigenvalues])\n",
    "        f = eigenvectors[index]\n",
    "        \n",
    "        F = np.reshape(f, (3, 3)).T #Fundamental Matrix\n",
    "        E = np.dot(np.dot(K.T, F), K) #Essential Matrix\n",
    "        \n",
    "        U, D, V_T = np.linalg.svd(E)\n",
    "        D[2] = 0\n",
    "        D = np.diag(D)\n",
    "        Z = np.array([[0, 1, 0], [-1, 0, 0], [0, 0, 0]])\n",
    "        \n",
    "        T = np.dot(U, np.dot(Z, U.T))        \n",
    "        R = np.dot(U, np.dot(Z, np.dot(D, V_T)))\n",
    "        \n",
    "        t = np.array([[T[2, 1], T[0, 2], T[1, 0], 1]]).T\n",
    "        RT = np.concatenate((np.concatenate((R, np.array([[0, 0, 0]]))), t), axis=1)\n",
    "        M = np.concatenate((K, np.array([[0, 0, 0]]).T), axis=1)\n",
    "        P = np.dot(M, RT)\n",
    "        \n",
    "        A = np.full((4, 3), 0)\n",
    "        b = np.array([[M[0, 3] - M[2, 3], M[1, 3] - M[2, 3], P[0, 3] - P[2, 3], P[1, 3] - P[2, 3]]]).T\n",
    "        \n",
    "        if ONLY_KEY_POINTS:\n",
    "            for j in range(0, count_points):\n",
    "                uL = LS[i][j][0]\n",
    "                vL = LS[i][j][1]\n",
    "                uR = RS[i][j][0]\n",
    "                vR = RS[i][j][1]\n",
    "\n",
    "                A[0] = [uR*M[2, 0] - M[0, 0], uR*M[2, 1] - M[0, 1], uR*M[2, 2] - M[0, 2]]\n",
    "                A[1] = [vR*M[2, 0] - M[1, 0], vR*M[2, 1] - M[1, 1], vR*M[2, 2] - M[1, 2]]\n",
    "                A[2] = [uL*P[2, 0] - P[0, 0], uL*P[2, 1] - P[0, 1], uL*P[2, 2] - P[0, 2]]\n",
    "                A[3] = [vL*P[2, 0] - P[1, 0], vL*P[2, 1] - P[1, 1], vL*P[2, 2] - P[1, 2]]\n",
    "\n",
    "                #Position of key point at right camera frame\n",
    "                xR = np.dot(np.linalg.inv(np.dot(A.T, A)), np.dot(A.T, b))\n",
    "\n",
    "                #Position of key point at left camera frame\n",
    "                xL = np.dot(RT, np.concatenate((xR, np.array([[1]]))))[0:-1, :]\n",
    "\n",
    "                x = LEFT_CENTER + xL\n",
    "                X.append(x)\n",
    "        else:\n",
    "            for j in range(0, 100):\n",
    "                uL = np.random.randint(0, K[1, 2]*2 + 1)\n",
    "                vL = np.random.randint(0, K[0, 2]*2 + 1)\n",
    "                \n",
    "        LEFT_CENTER += t[0: -1, :]"
   ]
  },
  {
   "cell_type": "code",
   "execution_count": 91,
   "metadata": {},
   "outputs": [
    {
     "data": {
      "application/vnd.plotly.v1+json": {
       "config": {
        "plotlyServerURL": "https://plot.ly"
       },
       "data": [
        {
         "marker": {
          "color": "blue"
         },
         "mode": "markers",
         "type": "scatter3d",
         "x": [
          -1435.010223469864,
          4072.720649181966,
          -1275.5835710158854,
          758.4478700103059,
          199.4083023747165,
          854.4565538399024,
          490.8245048829479,
          -1878.7770640755461,
          -809.5519659326004,
          -1489.876423982815,
          808.488624993938,
          238.1398296035971,
          -155.65102438468756,
          1128.4089464369465,
          1730.4148077684674,
          1730.4148077684674,
          1386.5006960536928,
          1945.2822595110347,
          -70.42098551713589,
          -453.3716890754339,
          -12508.028731715072,
          -1553.5754605841264,
          -789.7102015404423,
          110687.44213320485,
          110687.44213320485,
          -6383.962404142081,
          -2164.6448905221796,
          2570.832648815926,
          -1272.192914394201,
          -1272.192914394201,
          2651.6561596511488,
          1640.5018841324948,
          1622.1987461448032,
          -2297.2688238291234,
          1482.3664725256024,
          1482.3664725256024,
          1495.5687404436599,
          -383.15137011385457,
          527.2538237647344,
          -724.9529976859117,
          21871.573648387584,
          -2543.7995439082424,
          -4125.5058665666365,
          7256.568071363539,
          -1727.5961899893048,
          -16605.5526874608,
          -2246.658503046624,
          -3107.703986386599,
          -2454.7102875882993,
          2179.960336324666,
          1299.393771060001,
          -4171.703514438718,
          -4171.703514438718,
          -2312.4799980533867,
          -1685.235188593885,
          -1685.235188593885,
          -2487.028613374389,
          1664.3974127947754,
          -2357.174341285006,
          -2689.9117085883104,
          -2689.9117085883104,
          -9583.152567815932,
          -1079.500835204947,
          -1009.0996678190284,
          2114.352531251645,
          1411.6164094166616,
          5020.4190415173325,
          -6253.702914803437,
          3680.892649938915,
          1512.4993021594084,
          8702.934324353711,
          9845.988566446835,
          7082.241560690075,
          557.7203688359433,
          3942.489894584089,
          -6113.403480449983,
          7986.941293226635,
          -1177.9246625887743,
          1323.6296363927895,
          -1377.9343543724306,
          -17227.171970081065,
          -1666.5575423681612,
          4349.049733464723,
          -2220.907461085045,
          -2527.8245489113037,
          2797.190943226922,
          -941647.1714291507,
          1296.7379088562527,
          3619.8572439274217
         ],
         "y": [
          852.5943291688606,
          894.7394931718009,
          -415.07169593204725,
          286.722297262206,
          -195.48817978572853,
          -75.40700434474094,
          -517.3213032429214,
          -428.3111213456505,
          190.15131874607326,
          83.40814442948293,
          45.48336117962518,
          211.3215485188555,
          326.04059423160635,
          -90.22106278344877,
          -122.42007360837141,
          -122.42007360837141,
          -8.53088816360697,
          -35.92977844631746,
          151.1722172977238,
          233.8932089411602,
          373.1765248455412,
          -450.4127350676003,
          -121.6965874314217,
          -1263.6898510611084,
          -1263.6898510611084,
          -113.05750696927363,
          -55.143369157536554,
          384.2297446874354,
          120.20835059992412,
          120.20835059992412,
          485.9719788637915,
          34.4285709496599,
          21.24800455820098,
          -544.1901046461642,
          -11.349986900103548,
          -11.349986900103548,
          17.927068290153958,
          -263.487630574084,
          -64.50008141754175,
          263.009536927561,
          1192.4909204131648,
          361.5620027379244,
          236.4581352858508,
          -1392.344729243973,
          167.11698970479256,
          -309.39768541364964,
          -26.531445956995306,
          481.0666437704054,
          309.8536562728416,
          87.83120683868795,
          243.7629960694321,
          -619.9209085061508,
          -619.9209085061508,
          -25.65265040822308,
          -139.08020596188572,
          -139.08020596188572,
          -63.68193600375011,
          155.37358037769562,
          75.90339482170153,
          261.0635723925139,
          261.0635723925139,
          -471.37946615123116,
          -123.41594219394072,
          126.01339291052497,
          156.2324902786667,
          69.81143172337194,
          761.178549778331,
          -455.9172837133289,
          -100.08106411072106,
          231.4120156577858,
          307.53715093445663,
          -141.08422717260046,
          598.5566585814614,
          -10.498187220735481,
          299.658410919753,
          -190.45081205775082,
          1044.6166702190553,
          -93.40724087149792,
          -7.282253706518297,
          -30.803082757019265,
          -666.612649281175,
          -209.62264937665603,
          -361.1369339095384,
          87.56082267265302,
          -231.0548343725945,
          557.093038654552,
          -44637.099538280745,
          -49.219660617496814,
          485.0081709392435
         ],
         "z": [
          -13.479462674062441,
          -30.01594550027438,
          -11.323658463065557,
          -18.855415021878276,
          -16.184660514737107,
          -18.39029234702709,
          -16.386790625095863,
          -9.494717710184023,
          -13.972041673959037,
          -11.71861423697173,
          -18.504001261873,
          -17.144954094610284,
          -16.207067910480767,
          -19.177701216997594,
          -20.908755514912958,
          -20.908755514912958,
          -20.11810455124197,
          -21.73003440495775,
          -16.098546822398678,
          -15.126600470470908,
          20.585763848077455,
          -10.420053207372995,
          -13.383839067088514,
          -343.9422257707053,
          -343.9422257707053,
          3.305603387807153,
          -9.415739241872153,
          -24.470594628211344,
          -12.445136486851833,
          -12.445136486851833,
          -24.923213990064525,
          -20.965878366753177,
          -20.88384999813423,
          -8.004292579117553,
          -20.398557143205785,
          -20.398557143205785,
          -20.49877126086755,
          -14.303650097899327,
          -17.43573794731324,
          -14.37596736459053,
          -83.79087392141318,
          -9.148550325946253,
          -4.165002040454242,
          -34.776129821733605,
          -11.182454826039196,
          34.240289967598315,
          -9.23020771751704,
          -7.7125513902857135,
          -9.307260506903043,
          -22.687859876547122,
          -20.381771586997594,
          -2.2490121074242087,
          -2.2490121074242087,
          -9.035454680146065,
          -10.673238543293298,
          -10.673238543293298,
          -8.435204085913451,
          -21.288349757334537,
          -9.112825156126258,
          -8.50352710309144,
          -8.50352710309144,
          13.604017863660772,
          -12.514802105672874,
          -13.242923740601606,
          -22.633935636266532,
          -20.35576808774465,
          -32.56897121691429,
          3.6284276391031476,
          -26.78028845317618,
          -20.992573588372665,
          -42.62504532732578,
          -45.10737592327113,
          -38.38902094946839,
          -17.638846138962904,
          -28.39149696173891,
          2.6582566190993866,
          -42.017042664178476,
          -12.283161049355627,
          -19.932930927207302,
          -11.815806069037144,
          36.83842395613605,
          -10.58255916018167,
          -28.233751063306563,
          -9.543992943794477,
          -7.965865322972754,
          -25.505519371045285,
          2888.934470388489,
          -19.765547383679447,
          -27.812770518703264
         ]
        }
       ],
       "layout": {
        "height": 800,
        "scene": {
         "aspectratio": {
          "x": 1,
          "y": 1,
          "z": 1
         },
         "xaxis": {
          "autorange": false,
          "range": [
           -10000,
           10000
          ]
         },
         "yaxis": {
          "autorange": false,
          "range": [
           -10000,
           10000
          ]
         },
         "zaxis": {
          "autorange": false,
          "range": [
           -10000,
           10000
          ]
         }
        },
        "showlegend": false,
        "template": {
         "data": {
          "bar": [
           {
            "error_x": {
             "color": "#2a3f5f"
            },
            "error_y": {
             "color": "#2a3f5f"
            },
            "marker": {
             "line": {
              "color": "#E5ECF6",
              "width": 0.5
             },
             "pattern": {
              "fillmode": "overlay",
              "size": 10,
              "solidity": 0.2
             }
            },
            "type": "bar"
           }
          ],
          "barpolar": [
           {
            "marker": {
             "line": {
              "color": "#E5ECF6",
              "width": 0.5
             },
             "pattern": {
              "fillmode": "overlay",
              "size": 10,
              "solidity": 0.2
             }
            },
            "type": "barpolar"
           }
          ],
          "carpet": [
           {
            "aaxis": {
             "endlinecolor": "#2a3f5f",
             "gridcolor": "white",
             "linecolor": "white",
             "minorgridcolor": "white",
             "startlinecolor": "#2a3f5f"
            },
            "baxis": {
             "endlinecolor": "#2a3f5f",
             "gridcolor": "white",
             "linecolor": "white",
             "minorgridcolor": "white",
             "startlinecolor": "#2a3f5f"
            },
            "type": "carpet"
           }
          ],
          "choropleth": [
           {
            "colorbar": {
             "outlinewidth": 0,
             "ticks": ""
            },
            "type": "choropleth"
           }
          ],
          "contour": [
           {
            "colorbar": {
             "outlinewidth": 0,
             "ticks": ""
            },
            "colorscale": [
             [
              0,
              "#0d0887"
             ],
             [
              0.1111111111111111,
              "#46039f"
             ],
             [
              0.2222222222222222,
              "#7201a8"
             ],
             [
              0.3333333333333333,
              "#9c179e"
             ],
             [
              0.4444444444444444,
              "#bd3786"
             ],
             [
              0.5555555555555556,
              "#d8576b"
             ],
             [
              0.6666666666666666,
              "#ed7953"
             ],
             [
              0.7777777777777778,
              "#fb9f3a"
             ],
             [
              0.8888888888888888,
              "#fdca26"
             ],
             [
              1,
              "#f0f921"
             ]
            ],
            "type": "contour"
           }
          ],
          "contourcarpet": [
           {
            "colorbar": {
             "outlinewidth": 0,
             "ticks": ""
            },
            "type": "contourcarpet"
           }
          ],
          "heatmap": [
           {
            "colorbar": {
             "outlinewidth": 0,
             "ticks": ""
            },
            "colorscale": [
             [
              0,
              "#0d0887"
             ],
             [
              0.1111111111111111,
              "#46039f"
             ],
             [
              0.2222222222222222,
              "#7201a8"
             ],
             [
              0.3333333333333333,
              "#9c179e"
             ],
             [
              0.4444444444444444,
              "#bd3786"
             ],
             [
              0.5555555555555556,
              "#d8576b"
             ],
             [
              0.6666666666666666,
              "#ed7953"
             ],
             [
              0.7777777777777778,
              "#fb9f3a"
             ],
             [
              0.8888888888888888,
              "#fdca26"
             ],
             [
              1,
              "#f0f921"
             ]
            ],
            "type": "heatmap"
           }
          ],
          "heatmapgl": [
           {
            "colorbar": {
             "outlinewidth": 0,
             "ticks": ""
            },
            "colorscale": [
             [
              0,
              "#0d0887"
             ],
             [
              0.1111111111111111,
              "#46039f"
             ],
             [
              0.2222222222222222,
              "#7201a8"
             ],
             [
              0.3333333333333333,
              "#9c179e"
             ],
             [
              0.4444444444444444,
              "#bd3786"
             ],
             [
              0.5555555555555556,
              "#d8576b"
             ],
             [
              0.6666666666666666,
              "#ed7953"
             ],
             [
              0.7777777777777778,
              "#fb9f3a"
             ],
             [
              0.8888888888888888,
              "#fdca26"
             ],
             [
              1,
              "#f0f921"
             ]
            ],
            "type": "heatmapgl"
           }
          ],
          "histogram": [
           {
            "marker": {
             "pattern": {
              "fillmode": "overlay",
              "size": 10,
              "solidity": 0.2
             }
            },
            "type": "histogram"
           }
          ],
          "histogram2d": [
           {
            "colorbar": {
             "outlinewidth": 0,
             "ticks": ""
            },
            "colorscale": [
             [
              0,
              "#0d0887"
             ],
             [
              0.1111111111111111,
              "#46039f"
             ],
             [
              0.2222222222222222,
              "#7201a8"
             ],
             [
              0.3333333333333333,
              "#9c179e"
             ],
             [
              0.4444444444444444,
              "#bd3786"
             ],
             [
              0.5555555555555556,
              "#d8576b"
             ],
             [
              0.6666666666666666,
              "#ed7953"
             ],
             [
              0.7777777777777778,
              "#fb9f3a"
             ],
             [
              0.8888888888888888,
              "#fdca26"
             ],
             [
              1,
              "#f0f921"
             ]
            ],
            "type": "histogram2d"
           }
          ],
          "histogram2dcontour": [
           {
            "colorbar": {
             "outlinewidth": 0,
             "ticks": ""
            },
            "colorscale": [
             [
              0,
              "#0d0887"
             ],
             [
              0.1111111111111111,
              "#46039f"
             ],
             [
              0.2222222222222222,
              "#7201a8"
             ],
             [
              0.3333333333333333,
              "#9c179e"
             ],
             [
              0.4444444444444444,
              "#bd3786"
             ],
             [
              0.5555555555555556,
              "#d8576b"
             ],
             [
              0.6666666666666666,
              "#ed7953"
             ],
             [
              0.7777777777777778,
              "#fb9f3a"
             ],
             [
              0.8888888888888888,
              "#fdca26"
             ],
             [
              1,
              "#f0f921"
             ]
            ],
            "type": "histogram2dcontour"
           }
          ],
          "mesh3d": [
           {
            "colorbar": {
             "outlinewidth": 0,
             "ticks": ""
            },
            "type": "mesh3d"
           }
          ],
          "parcoords": [
           {
            "line": {
             "colorbar": {
              "outlinewidth": 0,
              "ticks": ""
             }
            },
            "type": "parcoords"
           }
          ],
          "pie": [
           {
            "automargin": true,
            "type": "pie"
           }
          ],
          "scatter": [
           {
            "fillpattern": {
             "fillmode": "overlay",
             "size": 10,
             "solidity": 0.2
            },
            "type": "scatter"
           }
          ],
          "scatter3d": [
           {
            "line": {
             "colorbar": {
              "outlinewidth": 0,
              "ticks": ""
             }
            },
            "marker": {
             "colorbar": {
              "outlinewidth": 0,
              "ticks": ""
             }
            },
            "type": "scatter3d"
           }
          ],
          "scattercarpet": [
           {
            "marker": {
             "colorbar": {
              "outlinewidth": 0,
              "ticks": ""
             }
            },
            "type": "scattercarpet"
           }
          ],
          "scattergeo": [
           {
            "marker": {
             "colorbar": {
              "outlinewidth": 0,
              "ticks": ""
             }
            },
            "type": "scattergeo"
           }
          ],
          "scattergl": [
           {
            "marker": {
             "colorbar": {
              "outlinewidth": 0,
              "ticks": ""
             }
            },
            "type": "scattergl"
           }
          ],
          "scattermapbox": [
           {
            "marker": {
             "colorbar": {
              "outlinewidth": 0,
              "ticks": ""
             }
            },
            "type": "scattermapbox"
           }
          ],
          "scatterpolar": [
           {
            "marker": {
             "colorbar": {
              "outlinewidth": 0,
              "ticks": ""
             }
            },
            "type": "scatterpolar"
           }
          ],
          "scatterpolargl": [
           {
            "marker": {
             "colorbar": {
              "outlinewidth": 0,
              "ticks": ""
             }
            },
            "type": "scatterpolargl"
           }
          ],
          "scatterternary": [
           {
            "marker": {
             "colorbar": {
              "outlinewidth": 0,
              "ticks": ""
             }
            },
            "type": "scatterternary"
           }
          ],
          "surface": [
           {
            "colorbar": {
             "outlinewidth": 0,
             "ticks": ""
            },
            "colorscale": [
             [
              0,
              "#0d0887"
             ],
             [
              0.1111111111111111,
              "#46039f"
             ],
             [
              0.2222222222222222,
              "#7201a8"
             ],
             [
              0.3333333333333333,
              "#9c179e"
             ],
             [
              0.4444444444444444,
              "#bd3786"
             ],
             [
              0.5555555555555556,
              "#d8576b"
             ],
             [
              0.6666666666666666,
              "#ed7953"
             ],
             [
              0.7777777777777778,
              "#fb9f3a"
             ],
             [
              0.8888888888888888,
              "#fdca26"
             ],
             [
              1,
              "#f0f921"
             ]
            ],
            "type": "surface"
           }
          ],
          "table": [
           {
            "cells": {
             "fill": {
              "color": "#EBF0F8"
             },
             "line": {
              "color": "white"
             }
            },
            "header": {
             "fill": {
              "color": "#C8D4E3"
             },
             "line": {
              "color": "white"
             }
            },
            "type": "table"
           }
          ]
         },
         "layout": {
          "annotationdefaults": {
           "arrowcolor": "#2a3f5f",
           "arrowhead": 0,
           "arrowwidth": 1
          },
          "autotypenumbers": "strict",
          "coloraxis": {
           "colorbar": {
            "outlinewidth": 0,
            "ticks": ""
           }
          },
          "colorscale": {
           "diverging": [
            [
             0,
             "#8e0152"
            ],
            [
             0.1,
             "#c51b7d"
            ],
            [
             0.2,
             "#de77ae"
            ],
            [
             0.3,
             "#f1b6da"
            ],
            [
             0.4,
             "#fde0ef"
            ],
            [
             0.5,
             "#f7f7f7"
            ],
            [
             0.6,
             "#e6f5d0"
            ],
            [
             0.7,
             "#b8e186"
            ],
            [
             0.8,
             "#7fbc41"
            ],
            [
             0.9,
             "#4d9221"
            ],
            [
             1,
             "#276419"
            ]
           ],
           "sequential": [
            [
             0,
             "#0d0887"
            ],
            [
             0.1111111111111111,
             "#46039f"
            ],
            [
             0.2222222222222222,
             "#7201a8"
            ],
            [
             0.3333333333333333,
             "#9c179e"
            ],
            [
             0.4444444444444444,
             "#bd3786"
            ],
            [
             0.5555555555555556,
             "#d8576b"
            ],
            [
             0.6666666666666666,
             "#ed7953"
            ],
            [
             0.7777777777777778,
             "#fb9f3a"
            ],
            [
             0.8888888888888888,
             "#fdca26"
            ],
            [
             1,
             "#f0f921"
            ]
           ],
           "sequentialminus": [
            [
             0,
             "#0d0887"
            ],
            [
             0.1111111111111111,
             "#46039f"
            ],
            [
             0.2222222222222222,
             "#7201a8"
            ],
            [
             0.3333333333333333,
             "#9c179e"
            ],
            [
             0.4444444444444444,
             "#bd3786"
            ],
            [
             0.5555555555555556,
             "#d8576b"
            ],
            [
             0.6666666666666666,
             "#ed7953"
            ],
            [
             0.7777777777777778,
             "#fb9f3a"
            ],
            [
             0.8888888888888888,
             "#fdca26"
            ],
            [
             1,
             "#f0f921"
            ]
           ]
          },
          "colorway": [
           "#636efa",
           "#EF553B",
           "#00cc96",
           "#ab63fa",
           "#FFA15A",
           "#19d3f3",
           "#FF6692",
           "#B6E880",
           "#FF97FF",
           "#FECB52"
          ],
          "font": {
           "color": "#2a3f5f"
          },
          "geo": {
           "bgcolor": "white",
           "lakecolor": "white",
           "landcolor": "#E5ECF6",
           "showlakes": true,
           "showland": true,
           "subunitcolor": "white"
          },
          "hoverlabel": {
           "align": "left"
          },
          "hovermode": "closest",
          "mapbox": {
           "style": "light"
          },
          "paper_bgcolor": "white",
          "plot_bgcolor": "#E5ECF6",
          "polar": {
           "angularaxis": {
            "gridcolor": "white",
            "linecolor": "white",
            "ticks": ""
           },
           "bgcolor": "#E5ECF6",
           "radialaxis": {
            "gridcolor": "white",
            "linecolor": "white",
            "ticks": ""
           }
          },
          "scene": {
           "xaxis": {
            "backgroundcolor": "#E5ECF6",
            "gridcolor": "white",
            "gridwidth": 2,
            "linecolor": "white",
            "showbackground": true,
            "ticks": "",
            "zerolinecolor": "white"
           },
           "yaxis": {
            "backgroundcolor": "#E5ECF6",
            "gridcolor": "white",
            "gridwidth": 2,
            "linecolor": "white",
            "showbackground": true,
            "ticks": "",
            "zerolinecolor": "white"
           },
           "zaxis": {
            "backgroundcolor": "#E5ECF6",
            "gridcolor": "white",
            "gridwidth": 2,
            "linecolor": "white",
            "showbackground": true,
            "ticks": "",
            "zerolinecolor": "white"
           }
          },
          "shapedefaults": {
           "line": {
            "color": "#2a3f5f"
           }
          },
          "ternary": {
           "aaxis": {
            "gridcolor": "white",
            "linecolor": "white",
            "ticks": ""
           },
           "baxis": {
            "gridcolor": "white",
            "linecolor": "white",
            "ticks": ""
           },
           "bgcolor": "#E5ECF6",
           "caxis": {
            "gridcolor": "white",
            "linecolor": "white",
            "ticks": ""
           }
          },
          "title": {
           "x": 0.05
          },
          "xaxis": {
           "automargin": true,
           "gridcolor": "white",
           "linecolor": "white",
           "ticks": "",
           "title": {
            "standoff": 15
           },
           "zerolinecolor": "white",
           "zerolinewidth": 2
          },
          "yaxis": {
           "automargin": true,
           "gridcolor": "white",
           "linecolor": "white",
           "ticks": "",
           "title": {
            "standoff": 15
           },
           "zerolinecolor": "white",
           "zerolinewidth": 2
          }
         }
        },
        "width": 800
       }
      },
      "text/html": [
       "<div>                            <div id=\"b0352d68-66b0-477a-a6fd-cbd8eabdda90\" class=\"plotly-graph-div\" style=\"height:800px; width:800px;\"></div>            <script type=\"text/javascript\">                require([\"plotly\"], function(Plotly) {                    window.PLOTLYENV=window.PLOTLYENV || {};                                    if (document.getElementById(\"b0352d68-66b0-477a-a6fd-cbd8eabdda90\")) {                    Plotly.newPlot(                        \"b0352d68-66b0-477a-a6fd-cbd8eabdda90\",                        [{\"marker\":{\"color\":\"blue\"},\"mode\":\"markers\",\"x\":[-1435.010223469864,4072.720649181966,-1275.5835710158854,758.4478700103059,199.4083023747165,854.4565538399024,490.8245048829479,-1878.7770640755461,-809.5519659326004,-1489.876423982815,808.488624993938,238.1398296035971,-155.65102438468756,1128.4089464369465,1730.4148077684674,1730.4148077684674,1386.5006960536928,1945.2822595110347,-70.42098551713589,-453.3716890754339,-12508.028731715072,-1553.5754605841264,-789.7102015404423,110687.44213320485,110687.44213320485,-6383.962404142081,-2164.6448905221796,2570.832648815926,-1272.192914394201,-1272.192914394201,2651.6561596511488,1640.5018841324948,1622.1987461448032,-2297.2688238291234,1482.3664725256024,1482.3664725256024,1495.5687404436599,-383.15137011385457,527.2538237647344,-724.9529976859117,21871.573648387584,-2543.7995439082424,-4125.5058665666365,7256.568071363539,-1727.5961899893048,-16605.5526874608,-2246.658503046624,-3107.703986386599,-2454.7102875882993,2179.960336324666,1299.393771060001,-4171.703514438718,-4171.703514438718,-2312.4799980533867,-1685.235188593885,-1685.235188593885,-2487.028613374389,1664.3974127947754,-2357.174341285006,-2689.9117085883104,-2689.9117085883104,-9583.152567815932,-1079.500835204947,-1009.0996678190284,2114.352531251645,1411.6164094166616,5020.4190415173325,-6253.702914803437,3680.892649938915,1512.4993021594084,8702.934324353711,9845.988566446835,7082.241560690075,557.7203688359433,3942.489894584089,-6113.403480449983,7986.941293226635,-1177.9246625887743,1323.6296363927895,-1377.9343543724306,-17227.171970081065,-1666.5575423681612,4349.049733464723,-2220.907461085045,-2527.8245489113037,2797.190943226922,-941647.1714291507,1296.7379088562527,3619.8572439274217],\"y\":[852.5943291688606,894.7394931718009,-415.07169593204725,286.722297262206,-195.48817978572853,-75.40700434474094,-517.3213032429214,-428.3111213456505,190.15131874607326,83.40814442948293,45.48336117962518,211.3215485188555,326.04059423160635,-90.22106278344877,-122.42007360837141,-122.42007360837141,-8.53088816360697,-35.92977844631746,151.1722172977238,233.8932089411602,373.1765248455412,-450.4127350676003,-121.6965874314217,-1263.6898510611084,-1263.6898510611084,-113.05750696927363,-55.143369157536554,384.2297446874354,120.20835059992412,120.20835059992412,485.9719788637915,34.4285709496599,21.24800455820098,-544.1901046461642,-11.349986900103548,-11.349986900103548,17.927068290153958,-263.487630574084,-64.50008141754175,263.009536927561,1192.4909204131648,361.5620027379244,236.4581352858508,-1392.344729243973,167.11698970479256,-309.39768541364964,-26.531445956995306,481.0666437704054,309.8536562728416,87.83120683868795,243.7629960694321,-619.9209085061508,-619.9209085061508,-25.65265040822308,-139.08020596188572,-139.08020596188572,-63.68193600375011,155.37358037769562,75.90339482170153,261.0635723925139,261.0635723925139,-471.37946615123116,-123.41594219394072,126.01339291052497,156.2324902786667,69.81143172337194,761.178549778331,-455.9172837133289,-100.08106411072106,231.4120156577858,307.53715093445663,-141.08422717260046,598.5566585814614,-10.498187220735481,299.658410919753,-190.45081205775082,1044.6166702190553,-93.40724087149792,-7.282253706518297,-30.803082757019265,-666.612649281175,-209.62264937665603,-361.1369339095384,87.56082267265302,-231.0548343725945,557.093038654552,-44637.099538280745,-49.219660617496814,485.0081709392435],\"z\":[-13.479462674062441,-30.01594550027438,-11.323658463065557,-18.855415021878276,-16.184660514737107,-18.39029234702709,-16.386790625095863,-9.494717710184023,-13.972041673959037,-11.71861423697173,-18.504001261873,-17.144954094610284,-16.207067910480767,-19.177701216997594,-20.908755514912958,-20.908755514912958,-20.11810455124197,-21.73003440495775,-16.098546822398678,-15.126600470470908,20.585763848077455,-10.420053207372995,-13.383839067088514,-343.9422257707053,-343.9422257707053,3.305603387807153,-9.415739241872153,-24.470594628211344,-12.445136486851833,-12.445136486851833,-24.923213990064525,-20.965878366753177,-20.88384999813423,-8.004292579117553,-20.398557143205785,-20.398557143205785,-20.49877126086755,-14.303650097899327,-17.43573794731324,-14.37596736459053,-83.79087392141318,-9.148550325946253,-4.165002040454242,-34.776129821733605,-11.182454826039196,34.240289967598315,-9.23020771751704,-7.7125513902857135,-9.307260506903043,-22.687859876547122,-20.381771586997594,-2.2490121074242087,-2.2490121074242087,-9.035454680146065,-10.673238543293298,-10.673238543293298,-8.435204085913451,-21.288349757334537,-9.112825156126258,-8.50352710309144,-8.50352710309144,13.604017863660772,-12.514802105672874,-13.242923740601606,-22.633935636266532,-20.35576808774465,-32.56897121691429,3.6284276391031476,-26.78028845317618,-20.992573588372665,-42.62504532732578,-45.10737592327113,-38.38902094946839,-17.638846138962904,-28.39149696173891,2.6582566190993866,-42.017042664178476,-12.283161049355627,-19.932930927207302,-11.815806069037144,36.83842395613605,-10.58255916018167,-28.233751063306563,-9.543992943794477,-7.965865322972754,-25.505519371045285,2888.934470388489,-19.765547383679447,-27.812770518703264],\"type\":\"scatter3d\"}],                        {\"template\":{\"data\":{\"histogram2dcontour\":[{\"type\":\"histogram2dcontour\",\"colorbar\":{\"outlinewidth\":0,\"ticks\":\"\"},\"colorscale\":[[0.0,\"#0d0887\"],[0.1111111111111111,\"#46039f\"],[0.2222222222222222,\"#7201a8\"],[0.3333333333333333,\"#9c179e\"],[0.4444444444444444,\"#bd3786\"],[0.5555555555555556,\"#d8576b\"],[0.6666666666666666,\"#ed7953\"],[0.7777777777777778,\"#fb9f3a\"],[0.8888888888888888,\"#fdca26\"],[1.0,\"#f0f921\"]]}],\"choropleth\":[{\"type\":\"choropleth\",\"colorbar\":{\"outlinewidth\":0,\"ticks\":\"\"}}],\"histogram2d\":[{\"type\":\"histogram2d\",\"colorbar\":{\"outlinewidth\":0,\"ticks\":\"\"},\"colorscale\":[[0.0,\"#0d0887\"],[0.1111111111111111,\"#46039f\"],[0.2222222222222222,\"#7201a8\"],[0.3333333333333333,\"#9c179e\"],[0.4444444444444444,\"#bd3786\"],[0.5555555555555556,\"#d8576b\"],[0.6666666666666666,\"#ed7953\"],[0.7777777777777778,\"#fb9f3a\"],[0.8888888888888888,\"#fdca26\"],[1.0,\"#f0f921\"]]}],\"heatmap\":[{\"type\":\"heatmap\",\"colorbar\":{\"outlinewidth\":0,\"ticks\":\"\"},\"colorscale\":[[0.0,\"#0d0887\"],[0.1111111111111111,\"#46039f\"],[0.2222222222222222,\"#7201a8\"],[0.3333333333333333,\"#9c179e\"],[0.4444444444444444,\"#bd3786\"],[0.5555555555555556,\"#d8576b\"],[0.6666666666666666,\"#ed7953\"],[0.7777777777777778,\"#fb9f3a\"],[0.8888888888888888,\"#fdca26\"],[1.0,\"#f0f921\"]]}],\"heatmapgl\":[{\"type\":\"heatmapgl\",\"colorbar\":{\"outlinewidth\":0,\"ticks\":\"\"},\"colorscale\":[[0.0,\"#0d0887\"],[0.1111111111111111,\"#46039f\"],[0.2222222222222222,\"#7201a8\"],[0.3333333333333333,\"#9c179e\"],[0.4444444444444444,\"#bd3786\"],[0.5555555555555556,\"#d8576b\"],[0.6666666666666666,\"#ed7953\"],[0.7777777777777778,\"#fb9f3a\"],[0.8888888888888888,\"#fdca26\"],[1.0,\"#f0f921\"]]}],\"contourcarpet\":[{\"type\":\"contourcarpet\",\"colorbar\":{\"outlinewidth\":0,\"ticks\":\"\"}}],\"contour\":[{\"type\":\"contour\",\"colorbar\":{\"outlinewidth\":0,\"ticks\":\"\"},\"colorscale\":[[0.0,\"#0d0887\"],[0.1111111111111111,\"#46039f\"],[0.2222222222222222,\"#7201a8\"],[0.3333333333333333,\"#9c179e\"],[0.4444444444444444,\"#bd3786\"],[0.5555555555555556,\"#d8576b\"],[0.6666666666666666,\"#ed7953\"],[0.7777777777777778,\"#fb9f3a\"],[0.8888888888888888,\"#fdca26\"],[1.0,\"#f0f921\"]]}],\"surface\":[{\"type\":\"surface\",\"colorbar\":{\"outlinewidth\":0,\"ticks\":\"\"},\"colorscale\":[[0.0,\"#0d0887\"],[0.1111111111111111,\"#46039f\"],[0.2222222222222222,\"#7201a8\"],[0.3333333333333333,\"#9c179e\"],[0.4444444444444444,\"#bd3786\"],[0.5555555555555556,\"#d8576b\"],[0.6666666666666666,\"#ed7953\"],[0.7777777777777778,\"#fb9f3a\"],[0.8888888888888888,\"#fdca26\"],[1.0,\"#f0f921\"]]}],\"mesh3d\":[{\"type\":\"mesh3d\",\"colorbar\":{\"outlinewidth\":0,\"ticks\":\"\"}}],\"scatter\":[{\"fillpattern\":{\"fillmode\":\"overlay\",\"size\":10,\"solidity\":0.2},\"type\":\"scatter\"}],\"parcoords\":[{\"type\":\"parcoords\",\"line\":{\"colorbar\":{\"outlinewidth\":0,\"ticks\":\"\"}}}],\"scatterpolargl\":[{\"type\":\"scatterpolargl\",\"marker\":{\"colorbar\":{\"outlinewidth\":0,\"ticks\":\"\"}}}],\"bar\":[{\"error_x\":{\"color\":\"#2a3f5f\"},\"error_y\":{\"color\":\"#2a3f5f\"},\"marker\":{\"line\":{\"color\":\"#E5ECF6\",\"width\":0.5},\"pattern\":{\"fillmode\":\"overlay\",\"size\":10,\"solidity\":0.2}},\"type\":\"bar\"}],\"scattergeo\":[{\"type\":\"scattergeo\",\"marker\":{\"colorbar\":{\"outlinewidth\":0,\"ticks\":\"\"}}}],\"scatterpolar\":[{\"type\":\"scatterpolar\",\"marker\":{\"colorbar\":{\"outlinewidth\":0,\"ticks\":\"\"}}}],\"histogram\":[{\"marker\":{\"pattern\":{\"fillmode\":\"overlay\",\"size\":10,\"solidity\":0.2}},\"type\":\"histogram\"}],\"scattergl\":[{\"type\":\"scattergl\",\"marker\":{\"colorbar\":{\"outlinewidth\":0,\"ticks\":\"\"}}}],\"scatter3d\":[{\"type\":\"scatter3d\",\"line\":{\"colorbar\":{\"outlinewidth\":0,\"ticks\":\"\"}},\"marker\":{\"colorbar\":{\"outlinewidth\":0,\"ticks\":\"\"}}}],\"scattermapbox\":[{\"type\":\"scattermapbox\",\"marker\":{\"colorbar\":{\"outlinewidth\":0,\"ticks\":\"\"}}}],\"scatterternary\":[{\"type\":\"scatterternary\",\"marker\":{\"colorbar\":{\"outlinewidth\":0,\"ticks\":\"\"}}}],\"scattercarpet\":[{\"type\":\"scattercarpet\",\"marker\":{\"colorbar\":{\"outlinewidth\":0,\"ticks\":\"\"}}}],\"carpet\":[{\"aaxis\":{\"endlinecolor\":\"#2a3f5f\",\"gridcolor\":\"white\",\"linecolor\":\"white\",\"minorgridcolor\":\"white\",\"startlinecolor\":\"#2a3f5f\"},\"baxis\":{\"endlinecolor\":\"#2a3f5f\",\"gridcolor\":\"white\",\"linecolor\":\"white\",\"minorgridcolor\":\"white\",\"startlinecolor\":\"#2a3f5f\"},\"type\":\"carpet\"}],\"table\":[{\"cells\":{\"fill\":{\"color\":\"#EBF0F8\"},\"line\":{\"color\":\"white\"}},\"header\":{\"fill\":{\"color\":\"#C8D4E3\"},\"line\":{\"color\":\"white\"}},\"type\":\"table\"}],\"barpolar\":[{\"marker\":{\"line\":{\"color\":\"#E5ECF6\",\"width\":0.5},\"pattern\":{\"fillmode\":\"overlay\",\"size\":10,\"solidity\":0.2}},\"type\":\"barpolar\"}],\"pie\":[{\"automargin\":true,\"type\":\"pie\"}]},\"layout\":{\"autotypenumbers\":\"strict\",\"colorway\":[\"#636efa\",\"#EF553B\",\"#00cc96\",\"#ab63fa\",\"#FFA15A\",\"#19d3f3\",\"#FF6692\",\"#B6E880\",\"#FF97FF\",\"#FECB52\"],\"font\":{\"color\":\"#2a3f5f\"},\"hovermode\":\"closest\",\"hoverlabel\":{\"align\":\"left\"},\"paper_bgcolor\":\"white\",\"plot_bgcolor\":\"#E5ECF6\",\"polar\":{\"bgcolor\":\"#E5ECF6\",\"angularaxis\":{\"gridcolor\":\"white\",\"linecolor\":\"white\",\"ticks\":\"\"},\"radialaxis\":{\"gridcolor\":\"white\",\"linecolor\":\"white\",\"ticks\":\"\"}},\"ternary\":{\"bgcolor\":\"#E5ECF6\",\"aaxis\":{\"gridcolor\":\"white\",\"linecolor\":\"white\",\"ticks\":\"\"},\"baxis\":{\"gridcolor\":\"white\",\"linecolor\":\"white\",\"ticks\":\"\"},\"caxis\":{\"gridcolor\":\"white\",\"linecolor\":\"white\",\"ticks\":\"\"}},\"coloraxis\":{\"colorbar\":{\"outlinewidth\":0,\"ticks\":\"\"}},\"colorscale\":{\"sequential\":[[0.0,\"#0d0887\"],[0.1111111111111111,\"#46039f\"],[0.2222222222222222,\"#7201a8\"],[0.3333333333333333,\"#9c179e\"],[0.4444444444444444,\"#bd3786\"],[0.5555555555555556,\"#d8576b\"],[0.6666666666666666,\"#ed7953\"],[0.7777777777777778,\"#fb9f3a\"],[0.8888888888888888,\"#fdca26\"],[1.0,\"#f0f921\"]],\"sequentialminus\":[[0.0,\"#0d0887\"],[0.1111111111111111,\"#46039f\"],[0.2222222222222222,\"#7201a8\"],[0.3333333333333333,\"#9c179e\"],[0.4444444444444444,\"#bd3786\"],[0.5555555555555556,\"#d8576b\"],[0.6666666666666666,\"#ed7953\"],[0.7777777777777778,\"#fb9f3a\"],[0.8888888888888888,\"#fdca26\"],[1.0,\"#f0f921\"]],\"diverging\":[[0,\"#8e0152\"],[0.1,\"#c51b7d\"],[0.2,\"#de77ae\"],[0.3,\"#f1b6da\"],[0.4,\"#fde0ef\"],[0.5,\"#f7f7f7\"],[0.6,\"#e6f5d0\"],[0.7,\"#b8e186\"],[0.8,\"#7fbc41\"],[0.9,\"#4d9221\"],[1,\"#276419\"]]},\"xaxis\":{\"gridcolor\":\"white\",\"linecolor\":\"white\",\"ticks\":\"\",\"title\":{\"standoff\":15},\"zerolinecolor\":\"white\",\"automargin\":true,\"zerolinewidth\":2},\"yaxis\":{\"gridcolor\":\"white\",\"linecolor\":\"white\",\"ticks\":\"\",\"title\":{\"standoff\":15},\"zerolinecolor\":\"white\",\"automargin\":true,\"zerolinewidth\":2},\"scene\":{\"xaxis\":{\"backgroundcolor\":\"#E5ECF6\",\"gridcolor\":\"white\",\"linecolor\":\"white\",\"showbackground\":true,\"ticks\":\"\",\"zerolinecolor\":\"white\",\"gridwidth\":2},\"yaxis\":{\"backgroundcolor\":\"#E5ECF6\",\"gridcolor\":\"white\",\"linecolor\":\"white\",\"showbackground\":true,\"ticks\":\"\",\"zerolinecolor\":\"white\",\"gridwidth\":2},\"zaxis\":{\"backgroundcolor\":\"#E5ECF6\",\"gridcolor\":\"white\",\"linecolor\":\"white\",\"showbackground\":true,\"ticks\":\"\",\"zerolinecolor\":\"white\",\"gridwidth\":2}},\"shapedefaults\":{\"line\":{\"color\":\"#2a3f5f\"}},\"annotationdefaults\":{\"arrowcolor\":\"#2a3f5f\",\"arrowhead\":0,\"arrowwidth\":1},\"geo\":{\"bgcolor\":\"white\",\"landcolor\":\"#E5ECF6\",\"subunitcolor\":\"white\",\"showland\":true,\"showlakes\":true,\"lakecolor\":\"white\"},\"title\":{\"x\":0.05},\"mapbox\":{\"style\":\"light\"}}},\"scene\":{\"xaxis\":{\"range\":[-10000.0,10000.0],\"autorange\":false},\"yaxis\":{\"range\":[-10000.0,10000.0],\"autorange\":false},\"zaxis\":{\"range\":[-10000.0,10000.0],\"autorange\":false},\"aspectratio\":{\"x\":1,\"y\":1,\"z\":1}},\"showlegend\":false,\"width\":800,\"height\":800},                        {\"responsive\": true}                    ).then(function(){\n",
       "                            \n",
       "var gd = document.getElementById('b0352d68-66b0-477a-a6fd-cbd8eabdda90');\n",
       "var x = new MutationObserver(function (mutations, observer) {{\n",
       "        var display = window.getComputedStyle(gd).display;\n",
       "        if (!display || display === 'none') {{\n",
       "            console.log([gd, 'removed!']);\n",
       "            Plotly.purge(gd);\n",
       "            observer.disconnect();\n",
       "        }}\n",
       "}});\n",
       "\n",
       "// Listen for the removal of the full notebook cells\n",
       "var notebookContainer = gd.closest('#notebook-container');\n",
       "if (notebookContainer) {{\n",
       "    x.observe(notebookContainer, {childList: true});\n",
       "}}\n",
       "\n",
       "// Listen for the clearing of the current output cell\n",
       "var outputEl = gd.closest('.output');\n",
       "if (outputEl) {{\n",
       "    x.observe(outputEl, {childList: true});\n",
       "}}\n",
       "\n",
       "                        })                };                });            </script>        </div>"
      ]
     },
     "metadata": {},
     "output_type": "display_data"
    }
   ],
   "source": [
    "#Visualize 3d dense cloud\n",
    "\n",
    "xS = [X[i][0, 0] for i in range(0, len(X))]\n",
    "yS = [X[i][1, 0] for i in range(0, len(X))]\n",
    "zS = [X[i][2, 0] for i in range(0, len(X))]\n",
    "\n",
    "LIM = 1e4\n",
    "\n",
    "fig = go.Figure(\n",
    "    data=[go.Scatter3d(x=xS, y=yS, z=zS, marker={\"color\": \"blue\"}, mode=\"markers\")])\n",
    "fig.update_layout(\n",
    "        scene = dict(\n",
    "            xaxis=dict(range=[-LIM, LIM], autorange=False),\n",
    "            yaxis=dict(range=[-LIM, LIM], autorange=False),\n",
    "            zaxis=dict(range=[-LIM, LIM], autorange=False),\n",
    "            aspectratio=dict(x=1, y=1, z=1),\n",
    "        ),\n",
    "        showlegend=False,\n",
    "        width=800,\n",
    "        height=800)\n",
    "\n",
    "fig.show()"
   ]
  },
  {
   "cell_type": "code",
   "execution_count": null,
   "metadata": {},
   "outputs": [],
   "source": []
  }
 ],
 "metadata": {
  "kernelspec": {
   "display_name": "Python 3",
   "language": "python",
   "name": "python3"
  },
  "language_info": {
   "codemirror_mode": {
    "name": "ipython",
    "version": 3
   },
   "file_extension": ".py",
   "mimetype": "text/x-python",
   "name": "python",
   "nbconvert_exporter": "python",
   "pygments_lexer": "ipython3",
   "version": "3.8.2"
  },
  "latex_envs": {
   "LaTeX_envs_menu_present": true,
   "autoclose": false,
   "autocomplete": true,
   "bibliofile": "biblio.bib",
   "cite_by": "apalike",
   "current_citInitial": 1,
   "eqLabelWithNumbers": true,
   "eqNumInitial": 1,
   "hotkeys": {
    "equation": "Ctrl-E",
    "itemize": "Ctrl-I"
   },
   "labels_anchors": false,
   "latex_user_defs": false,
   "report_style_numbering": false,
   "user_envs_cfg": false
  }
 },
 "nbformat": 4,
 "nbformat_minor": 4
}
